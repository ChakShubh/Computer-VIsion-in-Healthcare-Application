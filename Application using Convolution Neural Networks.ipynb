{
 "cells": [
  {
   "cell_type": "markdown",
   "id": "8ad20e7a",
   "metadata": {
    "id": "8ad20e7a"
   },
   "source": [
    "# LAB ASSIGNMENT"
   ]
  },
  {
   "cell_type": "markdown",
   "id": "8941cd09",
   "metadata": {
    "id": "8941cd09"
   },
   "source": [
    "**Name:** SHUBHADIP CHAKRABARTI"
   ]
  },
  {
   "cell_type": "markdown",
   "id": "c0447597",
   "metadata": {
    "id": "c0447597"
   },
   "source": [
    "**Registration Number:** 19BAI1113"
   ]
  },
  {
   "cell_type": "markdown",
   "id": "36b73f26",
   "metadata": {
    "id": "36b73f26"
   },
   "source": [
    "**Objective:** Application of Convolution Neural Netwrosk on an Image Dataset"
   ]
  },
  {
   "cell_type": "markdown",
   "id": "b7893693",
   "metadata": {
    "id": "b7893693"
   },
   "source": [
    "**Dataset Used**: Retinal Disease Dataset (Image Dataset)"
   ]
  },
  {
   "cell_type": "markdown",
   "id": "68fe3f3b",
   "metadata": {
    "id": "68fe3f3b"
   },
   "source": [
    "**Dataset Procurement Source:** The dataset used in this notebook is procured from Kaggle Website "
   ]
  },
  {
   "cell_type": "markdown",
   "id": "1gyPiKZb5C2z",
   "metadata": {
    "id": "1gyPiKZb5C2z"
   },
   "source": [
    "We now mount the Google Drive to enable us to import the image dataset"
   ]
  },
  {
   "cell_type": "markdown",
   "id": "d7cf8233",
   "metadata": {},
   "source": [
    "### Mounting Google Drive into the Notebook"
   ]
  },
  {
   "cell_type": "code",
   "execution_count": 1,
   "id": "PO9MJVemOl-q",
   "metadata": {
    "colab": {
     "base_uri": "https://localhost:8080/"
    },
    "id": "PO9MJVemOl-q",
    "outputId": "c88117d5-25be-4c5e-e46e-294e619c644f"
   },
   "outputs": [
    {
     "name": "stdout",
     "output_type": "stream",
     "text": [
      "Drive already mounted at /content/drive; to attempt to forcibly remount, call drive.mount(\"/content/drive\", force_remount=True).\n"
     ]
    }
   ],
   "source": [
    "#Mounting the Google Drive into the Notebook\n",
    "from google.colab import drive\n",
    "drive.mount('/content/drive')"
   ]
  },
  {
   "cell_type": "markdown",
   "id": "f303a050",
   "metadata": {},
   "source": [
    "Having successfully mounted the Google Drive into the python Notebook, we now import necessary modules and functions, for carrying out the exercise, into the notebook"
   ]
  },
  {
   "cell_type": "markdown",
   "id": "cb8183bb",
   "metadata": {
    "id": "cb8183bb"
   },
   "source": [
    "### Importing Necessary Modules and Functions"
   ]
  },
  {
   "cell_type": "code",
   "execution_count": 2,
   "id": "2a4f33a1",
   "metadata": {
    "id": "2a4f33a1"
   },
   "outputs": [],
   "source": [
    "#import OS\n",
    "import os\n",
    "\n",
    "#import numpy\n",
    "import numpy as np\n",
    "\n",
    "#import pandas\n",
    "import pandas as pd\n",
    "\n",
    "#import glob\n",
    "import glob\n",
    "\n",
    "#import Keras\n",
    "from keras.preprocessing.image import ImageDataGenerator,load_img, img_to_array\n",
    "from keras.models import Sequential, Model\n",
    "from keras.layers import Conv2D, MaxPooling2D\n",
    "from keras.layers import Activation, Dropout, Flatten, Dense, AvgPool2D, MaxPool2D\n",
    "from keras.models import Sequential, Model\n",
    "\n",
    "#import Tensorflow\n",
    "import tensorflow as tf\n",
    "\n",
    "#import Adam\n",
    "from tensorflow.keras.optimizers import Adam"
   ]
  },
  {
   "cell_type": "markdown",
   "id": "49c31754",
   "metadata": {
    "id": "49c31754"
   },
   "source": [
    "Having imported all the necessary functions into the Notebook, we now move on to the execution of the exercise."
   ]
  },
  {
   "cell_type": "markdown",
   "id": "3e1ef5bb",
   "metadata": {
    "id": "3e1ef5bb"
   },
   "source": [
    "### Importing Dataset into the Notebook"
   ]
  },
  {
   "cell_type": "code",
   "execution_count": 3,
   "id": "8p9aJdlAikw2",
   "metadata": {
    "id": "8p9aJdlAikw2"
   },
   "outputs": [],
   "source": [
    "#dataset path\n",
    "dataset = \"/content/drive/MyDrive/Computer Vision in Healthcare Application/Lab/Dataset\""
   ]
  },
  {
   "cell_type": "markdown",
   "id": "704cfabd",
   "metadata": {},
   "source": [
    "### Defining Parameters"
   ]
  },
  {
   "cell_type": "code",
   "execution_count": 4,
   "id": "wkFhR7m-h5FT",
   "metadata": {
    "id": "wkFhR7m-h5FT"
   },
   "outputs": [],
   "source": [
    "#shape of image\n",
    "image_width = 256\n",
    "image_height = 256\n",
    "channels = 3\n",
    "\n",
    "input_shape = (image_width, image_height, channels)\n",
    "\n",
    "#number of output classes\n",
    "classes = 39\n",
    "\n",
    "#batch size\n",
    "batch_size = 64"
   ]
  },
  {
   "cell_type": "markdown",
   "id": "124d66cd",
   "metadata": {},
   "source": [
    "Having defined the necessary parameters, let us now define the Neural Network"
   ]
  },
  {
   "cell_type": "markdown",
   "id": "625ecf78",
   "metadata": {},
   "source": [
    "### Neural Network"
   ]
  },
  {
   "cell_type": "markdown",
   "id": "122a8885",
   "metadata": {},
   "source": [
    "We aim to design a Sequential Neural Network. "
   ]
  },
  {
   "cell_type": "code",
   "execution_count": 5,
   "id": "jSkTJxjfh5KO",
   "metadata": {
    "id": "jSkTJxjfh5KO"
   },
   "outputs": [],
   "source": [
    "#Neural Network\n",
    "model = Sequential()\n",
    "\n",
    "model.add(Conv2D(32, (3, 3), input_shape=input_shape))\n",
    "model.add(Activation('relu'))\n",
    "model.add(MaxPooling2D(pool_size=(2, 2)))\n",
    "\n",
    "model.add(Conv2D(64, (3, 3)))\n",
    "model.add(Activation('relu'))\n",
    "model.add(MaxPooling2D(pool_size=(2, 2)))\n",
    "\n",
    "model.add(Conv2D(64,(3,3)))\n",
    "model.add(Activation(\"relu\"))\n",
    "\n",
    "model.add(Conv2D(250,(3,3)))\n",
    "model.add(Activation(\"relu\"))\n",
    "  \n",
    "model.add(Conv2D(128,(3,3)))\n",
    "model.add(Activation(\"relu\"))\n",
    "model.add(AvgPool2D(2,2))\n",
    "\n",
    "model.add(Conv2D(64,(3,3)))\n",
    "model.add(Activation(\"relu\"))\n",
    "model.add(AvgPool2D(2,2))\n",
    "\n",
    "model.add(Conv2D(256,(2,2)))\n",
    "model.add(Activation(\"relu\"))\n",
    "model.add(MaxPool2D(2,2))\n",
    "    \n",
    "model.add(Flatten())        #flattern\n",
    "model.add(Dense(32))        #dense layer\n",
    "model.add(Dropout(0.25))    #dropout layer\n",
    "model.add(Dense(1))\n",
    "model.add(Activation(\"sigmoid\"))    "
   ]
  },
  {
   "cell_type": "markdown",
   "id": "3c877497",
   "metadata": {},
   "source": [
    "Having defined the Model, we now compile the model."
   ]
  },
  {
   "cell_type": "markdown",
   "id": "9e023bb2",
   "metadata": {},
   "source": [
    "### Compile the Model"
   ]
  },
  {
   "cell_type": "code",
   "execution_count": 6,
   "id": "oDsL8DEzh5Qn",
   "metadata": {
    "id": "oDsL8DEzh5Qn"
   },
   "outputs": [],
   "source": [
    "#Compile the Model\n",
    "model.compile(loss='categorical_crossentropy',    #loss function defined\n",
    "              optimizer='rmsprop',    #optimizer\n",
    "              metrics=['accuracy'])   #metrics for evaluation"
   ]
  },
  {
   "cell_type": "code",
   "execution_count": 7,
   "id": "5joUkibdh5Wi",
   "metadata": {
    "colab": {
     "base_uri": "https://localhost:8080/"
    },
    "id": "5joUkibdh5Wi",
    "outputId": "f69e507f-4d5a-463b-d1d4-9b8111b9fa9a"
   },
   "outputs": [
    {
     "name": "stdout",
     "output_type": "stream",
     "text": [
      "Model: \"sequential\"\n",
      "_________________________________________________________________\n",
      " Layer (type)                Output Shape              Param #   \n",
      "=================================================================\n",
      " conv2d (Conv2D)             (None, 254, 254, 32)      896       \n",
      "                                                                 \n",
      " activation (Activation)     (None, 254, 254, 32)      0         \n",
      "                                                                 \n",
      " max_pooling2d (MaxPooling2D  (None, 127, 127, 32)     0         \n",
      " )                                                               \n",
      "                                                                 \n",
      " conv2d_1 (Conv2D)           (None, 125, 125, 64)      18496     \n",
      "                                                                 \n",
      " activation_1 (Activation)   (None, 125, 125, 64)      0         \n",
      "                                                                 \n",
      " max_pooling2d_1 (MaxPooling  (None, 62, 62, 64)       0         \n",
      " 2D)                                                             \n",
      "                                                                 \n",
      " conv2d_2 (Conv2D)           (None, 60, 60, 64)        36928     \n",
      "                                                                 \n",
      " activation_2 (Activation)   (None, 60, 60, 64)        0         \n",
      "                                                                 \n",
      " conv2d_3 (Conv2D)           (None, 58, 58, 250)       144250    \n",
      "                                                                 \n",
      " activation_3 (Activation)   (None, 58, 58, 250)       0         \n",
      "                                                                 \n",
      " conv2d_4 (Conv2D)           (None, 56, 56, 128)       288128    \n",
      "                                                                 \n",
      " activation_4 (Activation)   (None, 56, 56, 128)       0         \n",
      "                                                                 \n",
      " average_pooling2d (AverageP  (None, 28, 28, 128)      0         \n",
      " ooling2D)                                                       \n",
      "                                                                 \n",
      " conv2d_5 (Conv2D)           (None, 26, 26, 64)        73792     \n",
      "                                                                 \n",
      " activation_5 (Activation)   (None, 26, 26, 64)        0         \n",
      "                                                                 \n",
      " average_pooling2d_1 (Averag  (None, 13, 13, 64)       0         \n",
      " ePooling2D)                                                     \n",
      "                                                                 \n",
      " conv2d_6 (Conv2D)           (None, 12, 12, 256)       65792     \n",
      "                                                                 \n",
      " activation_6 (Activation)   (None, 12, 12, 256)       0         \n",
      "                                                                 \n",
      " max_pooling2d_2 (MaxPooling  (None, 6, 6, 256)        0         \n",
      " 2D)                                                             \n",
      "                                                                 \n",
      " flatten (Flatten)           (None, 9216)              0         \n",
      "                                                                 \n",
      " dense (Dense)               (None, 32)                294944    \n",
      "                                                                 \n",
      " dropout (Dropout)           (None, 32)                0         \n",
      "                                                                 \n",
      " dense_1 (Dense)             (None, 1)                 33        \n",
      "                                                                 \n",
      " activation_7 (Activation)   (None, 1)                 0         \n",
      "                                                                 \n",
      "=================================================================\n",
      "Total params: 923,259\n",
      "Trainable params: 923,259\n",
      "Non-trainable params: 0\n",
      "_________________________________________________________________\n"
     ]
    }
   ],
   "source": [
    "#Summarize the Model\n",
    "model.summary()"
   ]
  },
  {
   "cell_type": "markdown",
   "id": "4303bfb1",
   "metadata": {},
   "source": [
    "### Split of Dataset"
   ]
  },
  {
   "cell_type": "code",
   "execution_count": 8,
   "id": "NArtRgXsh5ev",
   "metadata": {
    "colab": {
     "base_uri": "https://localhost:8080/"
    },
    "id": "NArtRgXsh5ev",
    "outputId": "bd015021-95d1-4f61-d292-29f41296caa8"
   },
   "outputs": [
    {
     "name": "stdout",
     "output_type": "stream",
     "text": [
      "Found 716 images belonging to 39 classes.\n",
      "Found 284 images belonging to 39 classes.\n"
     ]
    }
   ],
   "source": [
    "train_datagen = ImageDataGenerator(rescale=1./255,\n",
    "    shear_range=0.2,\n",
    "    zoom_range=0.2,\n",
    "    horizontal_flip=True,\n",
    "    validation_split=0.3)\n",
    "\n",
    "train_generator = train_datagen.flow_from_directory(\n",
    "    dataset,\n",
    "    target_size=(image_height, image_width),\n",
    "    batch_size= batch_size,\n",
    "    subset='training')\n",
    "\n",
    "validation_generator = train_datagen.flow_from_directory(\n",
    "    dataset, \n",
    "    target_size=(image_height, image_width),\n",
    "    batch_size= batch_size,\n",
    "    shuffle= False,\n",
    "    subset='validation')"
   ]
  },
  {
   "cell_type": "markdown",
   "id": "a528e661",
   "metadata": {},
   "source": [
    "We now carry out Modelling."
   ]
  },
  {
   "cell_type": "markdown",
   "id": "3edad2ac",
   "metadata": {},
   "source": [
    "### Modelling"
   ]
  },
  {
   "cell_type": "markdown",
   "id": "175ce48b",
   "metadata": {},
   "source": [
    "We here train the above defined architecture of the Convolution Neural Network (CNN) on the imported Retinal Disease Image Dataset."
   ]
  },
  {
   "cell_type": "code",
   "execution_count": 10,
   "id": "Ngs4AV9ah5qQ",
   "metadata": {
    "colab": {
     "base_uri": "https://localhost:8080/"
    },
    "id": "Ngs4AV9ah5qQ",
    "outputId": "a5b35afd-87f5-42ae-bd56-0d50d02fbeb5"
   },
   "outputs": [
    {
     "name": "stderr",
     "output_type": "stream",
     "text": [
      "/usr/local/lib/python3.7/dist-packages/ipykernel_launcher.py:6: UserWarning: `Model.fit_generator` is deprecated and will be removed in a future version. Please use `Model.fit`, which supports generators.\n",
      "  \n"
     ]
    },
    {
     "name": "stdout",
     "output_type": "stream",
     "text": [
      "Epoch 1/10\n",
      "11/11 [==============================] - 315s 28s/step - loss: 3.7086 - accuracy: 0.7367 - val_loss: 3.6455 - val_accuracy: 0.9745\n",
      "Epoch 2/10\n",
      "11/11 [==============================] - 291s 26s/step - loss: 3.5746 - accuracy: 0.6338 - val_loss: 3.4684 - val_accuracy: 0.9744\n",
      "Epoch 3/10\n",
      "11/11 [==============================] - 292s 29s/step - loss: 3.5245 - accuracy: 0.7384 - val_loss: 3.4506 - val_accuracy: 0.9744\n",
      "Epoch 4/10\n",
      "11/11 [==============================] - 292s 26s/step - loss: 3.5480 - accuracy: 0.7509 - val_loss: 3.4439 - val_accuracy: 0.9744\n",
      "Epoch 5/10\n",
      "11/11 [==============================] - 292s 26s/step - loss: 3.5449 - accuracy: 0.8093 - val_loss: 3.4414 - val_accuracy: 0.9744\n",
      "Epoch 6/10\n",
      "11/11 [==============================] - 290s 26s/step - loss: 3.4630 - accuracy: 0.8745 - val_loss: 3.4040 - val_accuracy: 0.9744\n",
      "Epoch 7/10\n",
      "11/11 [==============================] - 292s 26s/step - loss: 3.4788 - accuracy: 0.9077 - val_loss: 3.4357 - val_accuracy: 0.9744\n",
      "Epoch 8/10\n",
      "11/11 [==============================] - 291s 28s/step - loss: 3.5448 - accuracy: 0.8659 - val_loss: 3.4174 - val_accuracy: 0.9744\n",
      "Epoch 9/10\n",
      "11/11 [==============================] - 291s 26s/step - loss: 3.4458 - accuracy: 0.8932 - val_loss: 3.5400 - val_accuracy: 0.9744\n",
      "Epoch 10/10\n",
      "11/11 [==============================] - 292s 26s/step - loss: 3.4708 - accuracy: 0.8785 - val_loss: 3.3682 - val_accuracy: 0.9744\n"
     ]
    }
   ],
   "source": [
    "#Train the Model\n",
    "history = model.fit_generator(\n",
    "    train_generator,\n",
    "    steps_per_epoch = train_generator.samples // batch_size,\n",
    "    validation_data = validation_generator, \n",
    "    validation_steps = validation_generator.samples // batch_size,\n",
    "    epochs = 10)    #run the model for 10 epochs"
   ]
  },
  {
   "cell_type": "markdown",
   "id": "7fc524ae",
   "metadata": {},
   "source": [
    "We have successfully trained the CNN Model for the Retinal Image Dataset. We observe that we have acheived an accuracy of 87.85% and validation accuracy of 97.44%. It is also noted that we have achieved a loss of 3.47 and validation loss of 3.36 from the trained CNN Model."
   ]
  },
  {
   "cell_type": "markdown",
   "id": "276708eb",
   "metadata": {},
   "source": [
    "### Performance of the Trained Model"
   ]
  },
  {
   "cell_type": "code",
   "execution_count": 11,
   "id": "yfhjk_jaiOk8",
   "metadata": {
    "colab": {
     "base_uri": "https://localhost:8080/"
    },
    "id": "yfhjk_jaiOk8",
    "outputId": "8ea8db50-07e0-4f31-ce07-eaaab69734e5"
   },
   "outputs": [
    {
     "name": "stdout",
     "output_type": "stream",
     "text": [
      "Training_accuracy 0.8784804344177246\n",
      "Validation_accuracy 0.9743589758872986\n"
     ]
    }
   ],
   "source": [
    "print(\"Training_accuracy\", history.history['accuracy'][-1])\n",
    "print(\"Validation_accuracy\", history.history['val_accuracy'][-1])"
   ]
  },
  {
   "cell_type": "markdown",
   "id": "e7a8d637",
   "metadata": {},
   "source": [
    "We observe that we have achieved an accuracy of 87.85% and validation accuracy of 97.44%."
   ]
  },
  {
   "cell_type": "markdown",
   "id": "47e0d4d2",
   "metadata": {
    "id": "47e0d4d2"
   },
   "source": [
    "## Conclusion"
   ]
  },
  {
   "cell_type": "markdown",
   "id": "16d121f5",
   "metadata": {},
   "source": [
    "We observe that we have successfully trained the Convolution Neural Network on a Retinal Disease Image Dataset."
   ]
  },
  {
   "cell_type": "markdown",
   "id": "9d27fc53",
   "metadata": {},
   "source": [
    "As observed, we have successfully obtained a "
   ]
  },
  {
   "cell_type": "markdown",
   "id": "cdd73191",
   "metadata": {},
   "source": [
    "        1. Training Accuracy of 87.84%\n",
    "        2. Validation Accuracy of 97.43%"
   ]
  }
 ],
 "metadata": {
  "colab": {
   "collapsed_sections": [],
   "name": "19BAI1113_Shubhadip_Chakrabarti_Classification.ipynb",
   "provenance": []
  },
  "kernelspec": {
   "display_name": "Python 3 (ipykernel)",
   "language": "python",
   "name": "python3"
  },
  "language_info": {
   "codemirror_mode": {
    "name": "ipython",
    "version": 3
   },
   "file_extension": ".py",
   "mimetype": "text/x-python",
   "name": "python",
   "nbconvert_exporter": "python",
   "pygments_lexer": "ipython3",
   "version": "3.9.10"
  }
 },
 "nbformat": 4,
 "nbformat_minor": 5
}
